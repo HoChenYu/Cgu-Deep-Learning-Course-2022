{
 "cells": [
  {
   "cell_type": "markdown",
   "id": "4023bfc6-22aa-4545-8c19-48b4ae101a3b",
   "metadata": {},
   "source": [
    "# 長庚大學 資工系/人工智慧學程  樣形識別/深度學習 課程使用之教材及示範程式 Ch02"
   ]
  },
  {
   "cell_type": "code",
   "execution_count": 1,
   "id": "fe262b16-1ad9-4057-8abf-188f9f0ed3dc",
   "metadata": {},
   "outputs": [],
   "source": [
    "import numpy as np\n",
    "import tensorflow as tf\n",
    "import tensorflow.keras as keras"
   ]
  },
  {
   "cell_type": "code",
   "execution_count": 2,
   "id": "c5f9aa07-85d8-47f3-a8a9-edd2264ea3fb",
   "metadata": {},
   "outputs": [],
   "source": [
    "(xr,yr), (xt,yt)= keras.datasets.mnist.load_data()"
   ]
  },
  {
   "cell_type": "code",
   "execution_count": 3,
   "id": "8c5713fc-00c8-4659-8831-21ba3832f17e",
   "metadata": {},
   "outputs": [
    {
     "data": {
      "text/plain": [
       "((60000, 28, 28), (60000,), (10000, 28, 28), (10000,))"
      ]
     },
     "execution_count": 3,
     "metadata": {},
     "output_type": "execute_result"
    }
   ],
   "source": [
    "xr.shape, yr.shape, xt.shape, yt.shape"
   ]
  },
  {
   "cell_type": "code",
   "execution_count": 4,
   "id": "66533075-600c-49d1-9a29-4f3e5d8d7b03",
   "metadata": {},
   "outputs": [
    {
     "name": "stdout",
     "output_type": "stream",
     "text": [
      "  0  0  0  0  0  0  0  0  0  0  0  0  0  0  0  0  0  0  0  0  0  0  0  0  0  0  0  0\n",
      "  0  0  0  0  0  0  0  0  0  0  0  0  0  0  0  0  0  0  0  0  0  0  0  0  0  0  0  0\n",
      "  0  0  0  0  0  0  0  0  0  0  0  0  0  0  0  0  0  0  0  0  0  0  0  0  0  0  0  0\n",
      "  0  0  0  0  0  0  0  0  0  0  0  0  0  0  0  0  0  0  0  0  0  0  0  0  0  0  0  0\n",
      "  0  0  0  0  0  0  0  0  0  0  0  0  0  0  0  0  0  0  0  0  0  0  0  0  0  0  0  0\n",
      "  0  0  0  0  0  0  0  0  0  0  0  0  3 18 18 18126136175 26166255247127  0  0  0  0\n",
      "  0  0  0  0  0  0  0  0 30 36 94154170253253253253253225172253242195 64  0  0  0  0\n",
      "  0  0  0  0  0  0  0 49238253253253253253253253253251 93 82 82 56 39  0  0  0  0  0\n",
      "  0  0  0  0  0  0  0 18219253253253253253198182247241  0  0  0  0  0  0  0  0  0  0\n",
      "  0  0  0  0  0  0  0  0 80156107253253205 11  0 43154  0  0  0  0  0  0  0  0  0  0\n",
      "  0  0  0  0  0  0  0  0  0 14  1154253 90  0  0  0  0  0  0  0  0  0  0  0  0  0  0\n",
      "  0  0  0  0  0  0  0  0  0  0  0139253190  2  0  0  0  0  0  0  0  0  0  0  0  0  0\n",
      "  0  0  0  0  0  0  0  0  0  0  0 11190253 70  0  0  0  0  0  0  0  0  0  0  0  0  0\n",
      "  0  0  0  0  0  0  0  0  0  0  0  0 35241225160108  1  0  0  0  0  0  0  0  0  0  0\n",
      "  0  0  0  0  0  0  0  0  0  0  0  0  0 81240253253119 25  0  0  0  0  0  0  0  0  0\n",
      "  0  0  0  0  0  0  0  0  0  0  0  0  0  0 45186253253150 27  0  0  0  0  0  0  0  0\n",
      "  0  0  0  0  0  0  0  0  0  0  0  0  0  0  0 16 93252253187  0  0  0  0  0  0  0  0\n",
      "  0  0  0  0  0  0  0  0  0  0  0  0  0  0  0  0  0249253249 64  0  0  0  0  0  0  0\n",
      "  0  0  0  0  0  0  0  0  0  0  0  0  0  0 46130183253253207  2  0  0  0  0  0  0  0\n",
      "  0  0  0  0  0  0  0  0  0  0  0  0 39148229253253253250182  0  0  0  0  0  0  0  0\n",
      "  0  0  0  0  0  0  0  0  0  0 24114221253253253253201 78  0  0  0  0  0  0  0  0  0\n",
      "  0  0  0  0  0  0  0  0 23 66213253253253253198 81  2  0  0  0  0  0  0  0  0  0  0\n",
      "  0  0  0  0  0  0 18171219253253253253195 80  9  0  0  0  0  0  0  0  0  0  0  0  0\n",
      "  0  0  0  0 55172226253253253253244133 11  0  0  0  0  0  0  0  0  0  0  0  0  0  0\n",
      "  0  0  0  0136253253253212135132 16  0  0  0  0  0  0  0  0  0  0  0  0  0  0  0  0\n",
      "  0  0  0  0  0  0  0  0  0  0  0  0  0  0  0  0  0  0  0  0  0  0  0  0  0  0  0  0\n",
      "  0  0  0  0  0  0  0  0  0  0  0  0  0  0  0  0  0  0  0  0  0  0  0  0  0  0  0  0\n",
      "  0  0  0  0  0  0  0  0  0  0  0  0  0  0  0  0  0  0  0  0  0  0  0  0  0  0  0  0\n"
     ]
    }
   ],
   "source": [
    "x= xr[0]\n",
    "#%%\n",
    "for i in range(28):\n",
    "    for j in range(28):\n",
    "        z= x[i,j]\n",
    "        print(f'{z:3d}', end='')\n",
    "    print()"
   ]
  },
  {
   "cell_type": "code",
   "execution_count": 5,
   "id": "0c746e80-cd34-424c-b622-010923ce355a",
   "metadata": {},
   "outputs": [
    {
     "data": {
      "text/plain": [
       "<matplotlib.image.AxesImage at 0x2eab8c8fa30>"
      ]
     },
     "execution_count": 5,
     "metadata": {},
     "output_type": "execute_result"
    },
    {
     "data": {
      "image/png": "[encoded data removed]",
      "text/plain": [
       "<Figure size 640x480 with 1 Axes>"
      ]
     },
     "metadata": {},
     "output_type": "display_data"
    }
   ],
   "source": [
    "import matplotlib.pyplot as pl\n",
    "pl.imshow(x)"
   ]
  },
  {
   "cell_type": "code",
   "execution_count": 6,
   "id": "ff90b2c5-df90-456c-aa2d-358a8e892c16",
   "metadata": {},
   "outputs": [
    {
     "name": "stdout",
     "output_type": "stream",
     "text": [
      "y= 5\n"
     ]
    }
   ],
   "source": [
    "y= yr[0]\n",
    "print(f'{y= }')"
   ]
  },
  {
   "cell_type": "code",
   "execution_count": 7,
   "id": "7ad94416-53ca-4b00-96b6-936e8fe43f25",
   "metadata": {},
   "outputs": [],
   "source": [
    "xr1= xr.reshape(-1, 28*28) \n",
    "xt1= xt.reshape(-1, 28*28) "
   ]
  },
  {
   "cell_type": "code",
   "execution_count": 8,
   "id": "5c3bc9ff-8e3c-47ce-9061-ebf2f147c207",
   "metadata": {},
   "outputs": [],
   "source": [
    "aModel= keras.Sequential([\n",
    "    keras.Input(28*28),\n",
    "    keras.layers.Dense(100),    \n",
    "    keras.layers.Dense(10)   \n",
    "    ])\n",
    "\n",
    "aModel.compile(\n",
    "    loss=     'sparse_categorical_crossentropy',\n",
    "    metrics= ['accuracy']\n",
    "    )"
   ]
  },
  {
   "cell_type": "code",
   "execution_count": 9,
   "id": "089bbcac-dbda-45ce-bd12-6b5608bb8904",
   "metadata": {},
   "outputs": [
    {
     "name": "stdout",
     "output_type": "stream",
     "text": [
      "Model: \"sequential\"\n",
      "_________________________________________________________________\n",
      " Layer (type)                Output Shape              Param #   \n",
      "=================================================================\n",
      " dense (Dense)               (None, 100)               78500     \n",
      "                                                                 \n",
      " dense_1 (Dense)             (None, 10)                1010      \n",
      "                                                                 \n",
      "=================================================================\n",
      "Total params: 79,510\n",
      "Trainable params: 79,510\n",
      "Non-trainable params: 0\n",
      "_________________________________________________________________\n",
      "You must install pydot (`pip install pydot`) and install graphviz (see instructions at https://graphviz.gitlab.io/download/) for plot_model to work.\n"
     ]
    }
   ],
   "source": [
    "aModel.summary()\n",
    "\n",
    "keras.utils.plot_model(aModel, \n",
    "    show_shapes= True, \n",
    "    show_layer_activations= True)"
   ]
  },
  {
   "cell_type": "code",
   "execution_count": 10,
   "id": "ecfe3ee7-4dfd-4a9c-ad70-42c1916ee5ba",
   "metadata": {},
   "outputs": [
    {
     "name": "stdout",
     "output_type": "stream",
     "text": [
      "Epoch 1/10\n",
      "600/600 [==============================] - 1s 2ms/step - loss: 2.6431 - accuracy: 0.1131\n",
      "Epoch 2/10\n",
      "600/600 [==============================] - 1s 2ms/step - loss: 2.3417 - accuracy: 0.1229\n",
      "Epoch 3/10\n",
      "600/600 [==============================] - 1s 2ms/step - loss: 2.3417 - accuracy: 0.1229\n",
      "Epoch 4/10\n",
      "600/600 [==============================] - 1s 2ms/step - loss: 2.3417 - accuracy: 0.1229\n",
      "Epoch 5/10\n",
      "600/600 [==============================] - 1s 2ms/step - loss: 2.3417 - accuracy: 0.1229\n",
      "Epoch 6/10\n",
      "600/600 [==============================] - 1s 2ms/step - loss: 2.3417 - accuracy: 0.1229\n",
      "Epoch 7/10\n",
      "600/600 [==============================] - 1s 2ms/step - loss: 2.3417 - accuracy: 0.1229\n",
      "Epoch 8/10\n",
      "600/600 [==============================] - 1s 2ms/step - loss: 2.3417 - accuracy: 0.1229\n",
      "Epoch 9/10\n",
      "600/600 [==============================] - 1s 2ms/step - loss: 2.3417 - accuracy: 0.1229\n",
      "Epoch 10/10\n",
      "600/600 [==============================] - 1s 1ms/step - loss: 2.3417 - accuracy: 0.1229\n",
      "313/313 [==============================] - 0s 832us/step - loss: 2.3314 - accuracy: 0.1203\n"
     ]
    },
    {
     "data": {
      "text/plain": [
       "[2.3313732147216797, 0.12030000239610672]"
      ]
     },
     "execution_count": 10,
     "metadata": {},
     "output_type": "execute_result"
    }
   ],
   "source": [
    "aModel.fit(xr1, yr, \n",
    "           epochs= 10, \n",
    "           batch_size= 100)\n",
    "\n",
    "aModel.evaluate(xt1, yt)"
   ]
  },
  {
   "cell_type": "code",
   "execution_count": 11,
   "id": "660230a5-6afe-45c7-b698-7c7d9054e4c5",
   "metadata": {},
   "outputs": [
    {
     "name": "stdout",
     "output_type": "stream",
     "text": [
      "Epoch 1/10\n",
      "600/600 [==============================] - 1s 2ms/step - loss: 2.3424 - accuracy: 0.2474\n",
      "Epoch 2/10\n",
      "600/600 [==============================] - 1s 2ms/step - loss: 2.0885 - accuracy: 0.2938\n",
      "Epoch 3/10\n",
      "600/600 [==============================] - 1s 2ms/step - loss: 2.0965 - accuracy: 0.2988\n",
      "Epoch 4/10\n",
      "600/600 [==============================] - 1s 2ms/step - loss: 2.1681 - accuracy: 0.2926\n",
      "Epoch 5/10\n",
      "600/600 [==============================] - 1s 1ms/step - loss: 2.2947 - accuracy: 0.2730\n",
      "Epoch 6/10\n",
      "600/600 [==============================] - 1s 1ms/step - loss: 2.2982 - accuracy: 0.2768\n",
      "Epoch 7/10\n",
      "600/600 [==============================] - 1s 1ms/step - loss: 2.2763 - accuracy: 0.2709\n",
      "Epoch 8/10\n",
      "600/600 [==============================] - 1s 1ms/step - loss: 2.2959 - accuracy: 0.2740\n",
      "Epoch 9/10\n",
      "600/600 [==============================] - 1s 1ms/step - loss: 2.2934 - accuracy: 0.2706\n",
      "Epoch 10/10\n",
      "600/600 [==============================] - 1s 1ms/step - loss: 2.2799 - accuracy: 0.2733\n",
      "313/313 [==============================] - 0s 832us/step - loss: 2.3021 - accuracy: 0.2761\n"
     ]
    },
    {
     "data": {
      "text/plain": [
       "[2.3021304607391357, 0.2761000096797943]"
      ]
     },
     "execution_count": 11,
     "metadata": {},
     "output_type": "execute_result"
    }
   ],
   "source": [
    "\n",
    "aModel= keras.Sequential([\n",
    "    keras.Input(28*28),\n",
    "    keras.layers.Dense(100, activation= 'sigmoid'),    \n",
    "    keras.layers.Dense(10)   \n",
    "    ])\n",
    "\n",
    "aModel.compile(\n",
    "    loss=     'sparse_categorical_crossentropy',\n",
    "    metrics= ['accuracy']\n",
    "    )\n",
    "\n",
    "aModel.fit(xr1, yr, \n",
    "           epochs= 10, \n",
    "           batch_size= 100)\n",
    "\n",
    "aModel.evaluate(xt1, yt)"
   ]
  },
  {
   "cell_type": "code",
   "execution_count": 12,
   "id": "97b0333d-21ee-4392-911d-24d462fe67fd",
   "metadata": {},
   "outputs": [
    {
     "name": "stdout",
     "output_type": "stream",
     "text": [
      "Epoch 1/10\n",
      "600/600 [==============================] - 1s 1ms/step - loss: 0.5532 - accuracy: 0.8489\n",
      "Epoch 2/10\n",
      "600/600 [==============================] - 1s 1ms/step - loss: 0.2938 - accuracy: 0.9113\n",
      "Epoch 3/10\n",
      "600/600 [==============================] - 1s 1ms/step - loss: 0.2478 - accuracy: 0.9248\n",
      "Epoch 4/10\n",
      "600/600 [==============================] - 1s 1ms/step - loss: 0.2288 - accuracy: 0.9310\n",
      "Epoch 5/10\n",
      "600/600 [==============================] - 1s 1ms/step - loss: 0.2129 - accuracy: 0.9369\n",
      "Epoch 6/10\n",
      "600/600 [==============================] - 1s 1ms/step - loss: 0.2034 - accuracy: 0.9383\n",
      "Epoch 7/10\n",
      "600/600 [==============================] - 1s 1ms/step - loss: 0.1933 - accuracy: 0.9415\n",
      "Epoch 8/10\n",
      "600/600 [==============================] - 1s 1ms/step - loss: 0.1882 - accuracy: 0.9434\n",
      "Epoch 9/10\n",
      "600/600 [==============================] - 1s 1ms/step - loss: 0.1862 - accuracy: 0.9433\n",
      "Epoch 10/10\n",
      "600/600 [==============================] - 1s 1ms/step - loss: 0.1774 - accuracy: 0.9469\n",
      "313/313 [==============================] - 0s 768us/step - loss: 0.1803 - accuracy: 0.9461\n"
     ]
    },
    {
     "data": {
      "text/plain": [
       "[0.18032635748386383, 0.9460999965667725]"
      ]
     },
     "execution_count": 12,
     "metadata": {},
     "output_type": "execute_result"
    }
   ],
   "source": [
    "aModel= keras.Sequential([\n",
    "    keras.Input(28*28),\n",
    "    keras.layers.Dense(100, activation= 'sigmoid'),    \n",
    "    keras.layers.Dense(10,  activation= 'sigmoid')\n",
    "    ])\n",
    "\n",
    "aModel.compile(\n",
    "    loss=     'sparse_categorical_crossentropy',\n",
    "    metrics= ['accuracy']\n",
    "    )\n",
    "\n",
    "aModel.fit(xr1, yr, \n",
    "           epochs= 10, \n",
    "           batch_size= 100)\n",
    "\n",
    "aModel.evaluate(xt1, yt)"
   ]
  },
  {
   "cell_type": "code",
   "execution_count": 13,
   "id": "8a9719cd-be71-4769-be2a-90e07ce7d4ea",
   "metadata": {},
   "outputs": [
    {
     "name": "stdout",
     "output_type": "stream",
     "text": [
      "Epoch 1/10\n",
      "600/600 [==============================] - 1s 1ms/step - loss: 3.3818 - accuracy: 0.8554\n",
      "Epoch 2/10\n",
      "600/600 [==============================] - 1s 1ms/step - loss: 0.4917 - accuracy: 0.9176\n",
      "Epoch 3/10\n",
      "600/600 [==============================] - 1s 1ms/step - loss: 0.3504 - accuracy: 0.9370\n",
      "Epoch 4/10\n",
      "600/600 [==============================] - 1s 1ms/step - loss: 0.2942 - accuracy: 0.9477\n",
      "Epoch 5/10\n",
      "600/600 [==============================] - 1s 1ms/step - loss: 0.2630 - accuracy: 0.9548\n",
      "Epoch 6/10\n",
      "600/600 [==============================] - 1s 1ms/step - loss: 0.2338 - accuracy: 0.9584\n",
      "Epoch 7/10\n",
      "600/600 [==============================] - 1s 1ms/step - loss: 0.2210 - accuracy: 0.9628\n",
      "Epoch 8/10\n",
      "600/600 [==============================] - 1s 1ms/step - loss: 0.1920 - accuracy: 0.9660\n",
      "Epoch 9/10\n",
      "600/600 [==============================] - 1s 1ms/step - loss: 0.1841 - accuracy: 0.9685\n",
      "Epoch 10/10\n",
      "600/600 [==============================] - 1s 1ms/step - loss: 0.1796 - accuracy: 0.9712\n",
      "313/313 [==============================] - 0s 778us/step - loss: 0.4934 - accuracy: 0.9495\n"
     ]
    },
    {
     "data": {
      "text/plain": [
       "[0.4934280216693878, 0.9495000243186951]"
      ]
     },
     "execution_count": 13,
     "metadata": {},
     "output_type": "execute_result"
    }
   ],
   "source": [
    "aModel= keras.Sequential([\n",
    "    keras.Input(28*28),\n",
    "    keras.layers.Dense(100, activation= 'relu'),    \n",
    "    keras.layers.Dense(10,  activation= 'sigmoid')\n",
    "    ])\n",
    "\n",
    "aModel.compile(\n",
    "    loss=     'sparse_categorical_crossentropy',\n",
    "    metrics= ['accuracy']\n",
    "    )\n",
    "\n",
    "aModel.fit(xr1, yr, \n",
    "           epochs= 10, \n",
    "           batch_size= 100)\n",
    "\n",
    "aModel.evaluate(xt1, yt)"
   ]
  },
  {
   "cell_type": "code",
   "execution_count": 14,
   "id": "34818214-d878-4d87-a0f4-f03f6e34f653",
   "metadata": {},
   "outputs": [
    {
     "name": "stdout",
     "output_type": "stream",
     "text": [
      "Epoch 1/10\n",
      "600/600 [==============================] - 1s 1ms/step - loss: 4.5250 - accuracy: 0.8648\n",
      "Epoch 2/10\n",
      "600/600 [==============================] - 1s 1ms/step - loss: 0.5604 - accuracy: 0.9160\n",
      "Epoch 3/10\n",
      "600/600 [==============================] - 1s 1ms/step - loss: 0.3644 - accuracy: 0.9376\n",
      "Epoch 4/10\n",
      "600/600 [==============================] - 1s 1ms/step - loss: 0.2984 - accuracy: 0.9502\n",
      "Epoch 5/10\n",
      "600/600 [==============================] - 1s 1ms/step - loss: 0.2636 - accuracy: 0.9566\n",
      "Epoch 6/10\n",
      "600/600 [==============================] - 1s 1ms/step - loss: 0.2367 - accuracy: 0.9596\n",
      "Epoch 7/10\n",
      "600/600 [==============================] - 1s 1ms/step - loss: 0.2141 - accuracy: 0.9648\n",
      "Epoch 8/10\n",
      "600/600 [==============================] - 1s 1ms/step - loss: 0.1967 - accuracy: 0.9688\n",
      "Epoch 9/10\n",
      "600/600 [==============================] - 1s 1ms/step - loss: 0.1874 - accuracy: 0.9706\n",
      "Epoch 10/10\n",
      "600/600 [==============================] - 1s 1ms/step - loss: 0.1722 - accuracy: 0.9729\n",
      "313/313 [==============================] - 0s 775us/step - loss: 0.4913 - accuracy: 0.9544\n"
     ]
    },
    {
     "data": {
      "text/plain": [
       "[0.491306334733963, 0.9544000029563904]"
      ]
     },
     "execution_count": 14,
     "metadata": {},
     "output_type": "execute_result"
    }
   ],
   "source": [
    "aModel= keras.Sequential([\n",
    "    keras.Input(28*28),\n",
    "    keras.layers.Dense(100, activation= 'relu'),    \n",
    "    keras.layers.Dense(10,  activation= 'softmax')\n",
    "    ])\n",
    "\n",
    "aModel.compile(\n",
    "    loss=     'sparse_categorical_crossentropy',\n",
    "    metrics= ['accuracy']\n",
    "    )\n",
    "\n",
    "aModel.fit(xr1, yr, \n",
    "           epochs= 10, \n",
    "           batch_size= 100)\n",
    "\n",
    "aModel.evaluate(xt1, yt)"
   ]
  },
  {
   "cell_type": "code",
   "execution_count": 15,
   "id": "74f3c7bf-a031-4fd7-8456-93373a73bb68",
   "metadata": {},
   "outputs": [
    {
     "name": "stdout",
     "output_type": "stream",
     "text": [
      "Epoch 1/10\n",
      "600/600 [==============================] - 1s 1ms/step - loss: 0.3460 - accuracy: 0.9053\n",
      "Epoch 2/10\n",
      "600/600 [==============================] - 1s 1ms/step - loss: 0.1710 - accuracy: 0.9513\n",
      "Epoch 3/10\n",
      "600/600 [==============================] - 1s 1ms/step - loss: 0.1231 - accuracy: 0.9636\n",
      "Epoch 4/10\n",
      "600/600 [==============================] - 1s 1ms/step - loss: 0.0961 - accuracy: 0.9721\n",
      "Epoch 5/10\n",
      "600/600 [==============================] - 1s 1ms/step - loss: 0.0794 - accuracy: 0.9768\n",
      "Epoch 6/10\n",
      "600/600 [==============================] - 1s 1ms/step - loss: 0.0672 - accuracy: 0.9804\n",
      "Epoch 7/10\n",
      "600/600 [==============================] - 1s 1ms/step - loss: 0.0578 - accuracy: 0.9830\n",
      "Epoch 8/10\n",
      "600/600 [==============================] - 1s 1ms/step - loss: 0.0495 - accuracy: 0.9854\n",
      "Epoch 9/10\n",
      "600/600 [==============================] - 1s 1ms/step - loss: 0.0441 - accuracy: 0.9873\n",
      "Epoch 10/10\n",
      "600/600 [==============================] - 1s 1ms/step - loss: 0.0381 - accuracy: 0.9888\n",
      "313/313 [==============================] - 0s 791us/step - loss: 0.0804 - accuracy: 0.9762\n"
     ]
    },
    {
     "data": {
      "text/plain": [
       "[0.08044789731502533, 0.9761999845504761]"
      ]
     },
     "execution_count": 15,
     "metadata": {},
     "output_type": "execute_result"
    }
   ],
   "source": [
    "xr1= xr.reshape(-1,28*28) /255\n",
    "xt1= xt.reshape(-1,28*28) /255\n",
    "\n",
    "\n",
    "aModel= keras.Sequential([\n",
    "    keras.Input(28*28),\n",
    "    keras.layers.Dense(100, activation= 'relu'),    \n",
    "    keras.layers.Dense(10,  activation= 'softmax')\n",
    "    ])\n",
    "\n",
    "aModel.compile(\n",
    "    loss=     'sparse_categorical_crossentropy',\n",
    "    metrics= ['accuracy']\n",
    "    )\n",
    "\n",
    "aModel.fit(xr1, yr, \n",
    "           epochs= 10, \n",
    "           batch_size= 100)\n",
    "\n",
    "aModel.evaluate(xt1, yt)"
   ]
  },
  {
   "cell_type": "code",
   "execution_count": 16,
   "id": "22b7e84f-a229-4e3b-bdd2-a7c7361b126d",
   "metadata": {},
   "outputs": [
    {
     "name": "stdout",
     "output_type": "stream",
     "text": [
      "Epoch 1/10\n",
      "600/600 [==============================] - 1s 2ms/step - loss: 0.2866 - accuracy: 0.9198\n",
      "Epoch 2/10\n",
      "600/600 [==============================] - 1s 2ms/step - loss: 0.1301 - accuracy: 0.9615\n",
      "Epoch 3/10\n",
      "600/600 [==============================] - 1s 2ms/step - loss: 0.0899 - accuracy: 0.9739\n",
      "Epoch 4/10\n",
      "600/600 [==============================] - 1s 2ms/step - loss: 0.0688 - accuracy: 0.9795\n",
      "Epoch 5/10\n",
      "600/600 [==============================] - 1s 2ms/step - loss: 0.0549 - accuracy: 0.9834\n",
      "Epoch 6/10\n",
      "600/600 [==============================] - 1s 2ms/step - loss: 0.0447 - accuracy: 0.9867\n",
      "Epoch 7/10\n",
      "600/600 [==============================] - 1s 2ms/step - loss: 0.0377 - accuracy: 0.9890\n",
      "Epoch 8/10\n",
      "600/600 [==============================] - 1s 2ms/step - loss: 0.0307 - accuracy: 0.9910\n",
      "Epoch 9/10\n",
      "600/600 [==============================] - 1s 2ms/step - loss: 0.0257 - accuracy: 0.9923\n",
      "Epoch 10/10\n",
      "600/600 [==============================] - 1s 2ms/step - loss: 0.0210 - accuracy: 0.9941\n",
      "313/313 [==============================] - 0s 865us/step - loss: 0.0701 - accuracy: 0.9784\n"
     ]
    },
    {
     "data": {
      "text/plain": [
       "[0.07007892429828644, 0.9783999919891357]"
      ]
     },
     "execution_count": 16,
     "metadata": {},
     "output_type": "execute_result"
    }
   ],
   "source": [
    "aModel= keras.Sequential([\n",
    "    keras.Input(28*28),\n",
    "    keras.layers.Dense(200, activation= 'relu'),    \n",
    "    keras.layers.Dense(10,  activation= 'softmax')\n",
    "    ])\n",
    "\n",
    "aModel.compile(\n",
    "    loss=     'sparse_categorical_crossentropy',\n",
    "    metrics= ['accuracy']\n",
    "    )\n",
    "\n",
    "aModel.fit(xr1, yr, \n",
    "           epochs= 10, \n",
    "           batch_size= 100)\n",
    "\n",
    "aModel.evaluate(xt1, yt)"
   ]
  },
  {
   "cell_type": "code",
   "execution_count": 17,
   "id": "5188adb1-dbc2-42af-97ca-297d0c33ae5f",
   "metadata": {},
   "outputs": [
    {
     "name": "stdout",
     "output_type": "stream",
     "text": [
      "Epoch 1/10\n",
      "600/600 [==============================] - 1s 2ms/step - loss: 0.2956 - accuracy: 0.9143\n",
      "Epoch 2/10\n",
      "600/600 [==============================] - 1s 2ms/step - loss: 0.1284 - accuracy: 0.9622\n",
      "Epoch 3/10\n",
      "600/600 [==============================] - 1s 2ms/step - loss: 0.0904 - accuracy: 0.9725\n",
      "Epoch 4/10\n",
      "600/600 [==============================] - 1s 2ms/step - loss: 0.0706 - accuracy: 0.9786\n",
      "Epoch 5/10\n",
      "600/600 [==============================] - 1s 2ms/step - loss: 0.0588 - accuracy: 0.9821\n",
      "Epoch 6/10\n",
      "600/600 [==============================] - 1s 2ms/step - loss: 0.0478 - accuracy: 0.9849\n",
      "Epoch 7/10\n",
      "600/600 [==============================] - 1s 2ms/step - loss: 0.0414 - accuracy: 0.9875\n",
      "Epoch 8/10\n",
      "600/600 [==============================] - 1s 2ms/step - loss: 0.0357 - accuracy: 0.9892\n",
      "Epoch 9/10\n",
      "600/600 [==============================] - 1s 2ms/step - loss: 0.0286 - accuracy: 0.9913\n",
      "Epoch 10/10\n",
      "600/600 [==============================] - 1s 2ms/step - loss: 0.0256 - accuracy: 0.9919\n",
      "313/313 [==============================] - 0s 791us/step - loss: 0.0778 - accuracy: 0.9798\n"
     ]
    },
    {
     "data": {
      "text/plain": [
       "[0.07777393609285355, 0.9797999858856201]"
      ]
     },
     "execution_count": 17,
     "metadata": {},
     "output_type": "execute_result"
    }
   ],
   "source": [
    "aModel= keras.Sequential([\n",
    "    keras.Input(28*28),\n",
    "    keras.layers.Dense(100, activation= 'relu'), \n",
    "    keras.layers.Dense(100, activation= 'relu'), \n",
    "    keras.layers.Dense(10,  activation= 'softmax')\n",
    "    ])\n",
    "\n",
    "aModel.compile(\n",
    "    loss=     'sparse_categorical_crossentropy',\n",
    "    metrics= ['accuracy']\n",
    "    )\n",
    "\n",
    "aModel.fit(xr1, yr, \n",
    "           epochs= 10, \n",
    "           batch_size= 100)\n",
    "\n",
    "aModel.evaluate(xt1, yt)"
   ]
  },
  {
   "cell_type": "code",
   "execution_count": 18,
   "id": "e86ac3ba-b71d-443e-9b83-219886549875",
   "metadata": {
    "scrolled": true
   },
   "outputs": [
    {
     "name": "stdout",
     "output_type": "stream",
     "text": [
      "Epoch 1/10\n",
      "600/600 [==============================] - 1s 2ms/step - loss: 0.2967 - accuracy: 0.9132\n",
      "Epoch 2/10\n",
      "600/600 [==============================] - 1s 2ms/step - loss: 0.1256 - accuracy: 0.9625\n",
      "Epoch 3/10\n",
      "600/600 [==============================] - 1s 2ms/step - loss: 0.0856 - accuracy: 0.9737\n",
      "Epoch 4/10\n",
      "600/600 [==============================] - 1s 2ms/step - loss: 0.0658 - accuracy: 0.9794\n",
      "Epoch 5/10\n",
      "600/600 [==============================] - 1s 2ms/step - loss: 0.0520 - accuracy: 0.9840\n",
      "Epoch 6/10\n",
      "600/600 [==============================] - 1s 2ms/step - loss: 0.0428 - accuracy: 0.9869\n",
      "Epoch 7/10\n",
      "600/600 [==============================] - 1s 2ms/step - loss: 0.0347 - accuracy: 0.9891\n",
      "Epoch 8/10\n",
      "600/600 [==============================] - 1s 2ms/step - loss: 0.0281 - accuracy: 0.9915\n",
      "Epoch 9/10\n",
      "600/600 [==============================] - 1s 2ms/step - loss: 0.0244 - accuracy: 0.9926\n",
      "Epoch 10/10\n",
      "600/600 [==============================] - 1s 2ms/step - loss: 0.0207 - accuracy: 0.9931\n",
      "313/313 [==============================] - 0s 804us/step - loss: 0.0782 - accuracy: 0.9803\n"
     ]
    },
    {
     "data": {
      "text/plain": [
       "[0.07819309830665588, 0.9803000092506409]"
      ]
     },
     "execution_count": 18,
     "metadata": {},
     "output_type": "execute_result"
    }
   ],
   "source": [
    "aModel= keras.Sequential([\n",
    "    keras.Input(28*28),\n",
    "    keras.layers.Dense(150, activation= 'relu'), \n",
    "    keras.layers.Dense(50,  activation= 'relu'), \n",
    "    keras.layers.Dense(10,  activation= 'softmax')\n",
    "    ])\n",
    "\n",
    "aModel.compile(\n",
    "    loss=     'sparse_categorical_crossentropy',\n",
    "    metrics= ['accuracy']\n",
    "    )\n",
    "\n",
    "aModel.fit(xr1, yr, \n",
    "           epochs= 10, \n",
    "           batch_size= 100)\n",
    "\n",
    "aModel.evaluate(xt1, yt)"
   ]
  },
  {
   "cell_type": "markdown",
   "id": "8b4ee66f-1d7c-4cf2-bc53-6107399974b9",
   "metadata": {},
   "source": [
    "# 想想看，你能做那些改進來提升正確率 (accuracy) ？\n"
   ]
  },
  {
   "attachments": {
    "image-2.png": {
     "image/png": "[encoded data removed]"
    },
    "image.png": {
     "image/png": "[encoded data removed]"
    }
   },
   "cell_type": "markdown",
   "id": "3546a7c9",
   "metadata": {},
   "source": [
    "適當的更改週期(epochs)，10 → 16，執行週期越多次，準確率確實越高，但可能會造成過度擬合<p>\n",
    "適當的更改batch size，64 ~ 256 較優，經測試選為128<p>\n",
    "    ![image-2.png](attachment:image-2.png)\n",
    "而神經元數量完全只是依照測試去抓取unit=600和100<p>\n",
    "而dropout測試範圍0.2~0.5，最後為0.3<p>\n",
    "![image.png](attachment:image.png)"
   ]
  },
  {
   "cell_type": "code",
   "execution_count": 85,
   "id": "41d802a2-1411-4e0f-b9e3-8aaba68b5323",
   "metadata": {},
   "outputs": [
    {
     "name": "stdout",
     "output_type": "stream",
     "text": [
      "Epoch 1/16\n",
      "469/469 [==============================] - 4s 7ms/step - loss: 0.2584 - accuracy: 0.9214\n",
      "Epoch 2/16\n",
      "469/469 [==============================] - 3s 7ms/step - loss: 0.1114 - accuracy: 0.9660\n",
      "Epoch 3/16\n",
      "469/469 [==============================] - 3s 7ms/step - loss: 0.0816 - accuracy: 0.9751\n",
      "Epoch 4/16\n",
      "469/469 [==============================] - 3s 7ms/step - loss: 0.0661 - accuracy: 0.9795\n",
      "Epoch 5/16\n",
      "469/469 [==============================] - 3s 7ms/step - loss: 0.0556 - accuracy: 0.9836\n",
      "Epoch 6/16\n",
      "469/469 [==============================] - 4s 8ms/step - loss: 0.0484 - accuracy: 0.9851\n",
      "Epoch 7/16\n",
      "469/469 [==============================] - 3s 7ms/step - loss: 0.0425 - accuracy: 0.9869\n",
      "Epoch 8/16\n",
      "469/469 [==============================] - 3s 7ms/step - loss: 0.0363 - accuracy: 0.9886\n",
      "Epoch 9/16\n",
      "469/469 [==============================] - 3s 7ms/step - loss: 0.0337 - accuracy: 0.9893\n",
      "Epoch 10/16\n",
      "469/469 [==============================] - 3s 7ms/step - loss: 0.0307 - accuracy: 0.9906\n",
      "Epoch 11/16\n",
      "469/469 [==============================] - 3s 7ms/step - loss: 0.0293 - accuracy: 0.9910\n",
      "Epoch 12/16\n",
      "469/469 [==============================] - 3s 7ms/step - loss: 0.0235 - accuracy: 0.9923\n",
      "Epoch 13/16\n",
      "469/469 [==============================] - 3s 7ms/step - loss: 0.0230 - accuracy: 0.9928\n",
      "Epoch 14/16\n",
      "469/469 [==============================] - 3s 7ms/step - loss: 0.0205 - accuracy: 0.9932\n",
      "Epoch 15/16\n",
      "469/469 [==============================] - 3s 7ms/step - loss: 0.0210 - accuracy: 0.9937\n",
      "Epoch 16/16\n",
      "469/469 [==============================] - 3s 7ms/step - loss: 0.0201 - accuracy: 0.9937\n",
      "313/313 [==============================] - 1s 2ms/step - loss: 0.0826 - accuracy: 0.9835\n"
     ]
    },
    {
     "data": {
      "text/plain": [
       "[0.08262132108211517, 0.9835000038146973]"
      ]
     },
     "execution_count": 85,
     "metadata": {},
     "output_type": "execute_result"
    }
   ],
   "source": [
    "aModel= keras.Sequential([\n",
    "    keras.Input(28*28),\n",
    "    keras.layers.Dense(600, activation= 'relu'), \n",
    "    keras.layers.Dropout(0.3),\n",
    "    keras.layers.Dense(100,  activation= 'relu'), \n",
    "    keras.layers.Dropout(0),\n",
    "    keras.layers.Dense(10,  activation= 'softmax')\n",
    "    ])\n",
    "\n",
    "aModel.compile(\n",
    "    loss=     'sparse_categorical_crossentropy',\n",
    "    metrics= ['accuracy']\n",
    "    )\n",
    "\n",
    "aModel.fit(xr1, yr, \n",
    "           epochs= 16, \n",
    "           batch_size= 128)\n",
    "\n",
    "aModel.evaluate(xt1, yt)"
   ]
  },
  {
   "cell_type": "code",
   "execution_count": null,
   "id": "7e1bdf44",
   "metadata": {},
   "outputs": [],
   "source": []
  }
 ],
 "metadata": {
  "kernelspec": {
   "display_name": "Python 3 (ipykernel)",
   "language": "python",
   "name": "python3"
  },
  "language_info": {
   "codemirror_mode": {
    "name": "ipython",
    "version": 3
   },
   "file_extension": ".py",
   "mimetype": "text/x-python",
   "name": "python",
   "nbconvert_exporter": "python",
   "pygments_lexer": "ipython3",
   "version": "3.9.12"
  }
 },
 "nbformat": 4,
 "nbformat_minor": 5
}
